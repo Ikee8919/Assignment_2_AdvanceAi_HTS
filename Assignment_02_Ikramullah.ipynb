{
  "nbformat": 4,
  "nbformat_minor": 0,
  "metadata": {
    "colab": {
      "provenance": [],
      "toc_visible": true
    },
    "kernelspec": {
      "name": "python3",
      "display_name": "Python 3"
    },
    "language_info": {
      "name": "python"
    }
  },
  "cells": [
    {
      "cell_type": "code",
      "execution_count": 38,
      "metadata": {
        "colab": {
          "base_uri": "https://localhost:8080/"
        },
        "id": "kHrUWdYCQeD5",
        "outputId": "c4eaa582-f195-4bf6-9959-dc301fbe35d3"
      },
      "outputs": [
        {
          "output_type": "stream",
          "name": "stdout",
          "text": [
            "Enter a string: hello\n",
            "Vowels: 2\n",
            "Consonants: 3\n"
          ]
        }
      ],
      "source": [
        "def count_vowels_and_consonants(s):\n",
        "    # Define vowels\n",
        "    vowels = 'aeiouAEIOU'\n",
        "    # Initialize counters for vowels and consonants\n",
        "    vowel_count = 0\n",
        "    consonant_count = 0\n",
        "\n",
        "    # Loop through each character in the string\n",
        "    for char in s:\n",
        "        # Check if the character is an alphabet\n",
        "        if char.isalpha():\n",
        "            if char in vowels:\n",
        "                vowel_count += 1\n",
        "            else:\n",
        "                consonant_count += 1\n",
        "\n",
        "    return vowel_count, consonant_count\n",
        "\n",
        "# Take input from the user\n",
        "input_string = input(\"Enter a string: \")\n",
        "vowels, consonants = count_vowels_and_consonants(input_string)\n",
        "\n",
        "print(f\"Vowels: {vowels}\")\n",
        "print(f\"Consonants: {consonants}\")\n"
      ]
    },
    {
      "cell_type": "code",
      "source": [
        "def get_file_extension():\n",
        "    # Get the filename input from the user\n",
        "    filename = input(\"Enter the filename: \")\n",
        "\n",
        "    # Find the extension of the file\n",
        "    # Split the filename by dot (.) and get the last part\n",
        "    file_extension = filename.split(\".\")[-1]\n",
        "\n",
        "    # Print the file extension\n",
        "    print(f\"The extension of the file is: '{file_extension}'\")\n",
        "\n",
        "get_file_extension()\n"
      ],
      "metadata": {
        "colab": {
          "base_uri": "https://localhost:8080/"
        },
        "id": "4dCnoc1RS-Af",
        "outputId": "45e2cc8e-2041-4c87-8b0e-f8e4f9f48ee2"
      },
      "execution_count": 8,
      "outputs": [
        {
          "output_type": "stream",
          "name": "stdout",
          "text": [
            "Enter the filename: jpec\n",
            "The extension of the file is: 'jpec'\n"
          ]
        }
      ]
    },
    {
      "cell_type": "code",
      "source": [
        "my_dict={\"a\":200,\"b\":300}\n",
        "if 200 in my_dict.values():\n",
        "    print(\"Value 200 exists in the dictionary.\")\n",
        "else:\n",
        "    print(\"Value 200 does not exist in the dictionary.\")"
      ],
      "metadata": {
        "colab": {
          "base_uri": "https://localhost:8080/"
        },
        "id": "r82bPNP-Ro_i",
        "outputId": "322d30f1-0f32-4a7d-8f39-5001b5d95230"
      },
      "execution_count": 11,
      "outputs": [
        {
          "output_type": "stream",
          "name": "stdout",
          "text": [
            "Value 200 exists in the dictionary.\n"
          ]
        }
      ]
    },
    {
      "cell_type": "code",
      "source": [
        "tuple1 = (\"Orange\", [10, 20, 30], (5, 15, 25))\n",
        "print(tuple1[1][1])"
      ],
      "metadata": {
        "colab": {
          "base_uri": "https://localhost:8080/"
        },
        "id": "DXiQfMxsSFm-",
        "outputId": "329b283d-a52c-4666-a552-f6da240e5ace"
      },
      "execution_count": 22,
      "outputs": [
        {
          "output_type": "stream",
          "name": "stdout",
          "text": [
            "20\n"
          ]
        }
      ]
    },
    {
      "cell_type": "code",
      "source": [
        "#formula > BMI = (weight) / (height^2)\n",
        "weight=int(input(\"enter the weight in KG : \"))\n",
        "height=int(input(\"enter the height in Meters : \"))\n",
        "BMI = (weight) / (height^2)\n",
        "print(BMI)"
      ],
      "metadata": {
        "colab": {
          "base_uri": "https://localhost:8080/"
        },
        "id": "KjGzPjfRaLvW",
        "outputId": "66a60714-da78-4cce-b63b-81b552cf8854"
      },
      "execution_count": 25,
      "outputs": [
        {
          "output_type": "stream",
          "name": "stdout",
          "text": [
            "enter the weight in KG : 4\n",
            "enter the height in Meters : 44\n",
            "0.08695652173913043\n"
          ]
        }
      ]
    },
    {
      "cell_type": "code",
      "source": [
        "# Prompt the user to input a string\n",
        "user_input = input(\"Please enter a string: \")\n",
        "char_frequency = {}\n",
        "for char in user_input:\n",
        "    if char in char_frequency:\n",
        "        char_frequency[char] += 1\n",
        "    else:\n",
        "        char_frequency[char] = 1\n",
        "print(char_frequency)\n"
      ],
      "metadata": {
        "colab": {
          "base_uri": "https://localhost:8080/"
        },
        "id": "jekHoliFcv1e",
        "outputId": "aaf5519e-2ddc-4245-a06b-dee86cf70626"
      },
      "execution_count": 40,
      "outputs": [
        {
          "output_type": "stream",
          "name": "stdout",
          "text": [
            "Please enter a string: machineLearning\n",
            "{'m': 1, 'a': 2, 'c': 1, 'h': 1, 'i': 2, 'n': 3, 'e': 2, 'L': 1, 'r': 1, 'g': 1}\n"
          ]
        }
      ]
    },
    {
      "cell_type": "code",
      "source": [
        "def is_valid_email(email):\n",
        "    # Checking if \"@\" and \".\" are in the email\n",
        "    if \"@\" in email and \".\" in email:\n",
        "        # Basic check to see if \".\" comes after \"@\"\n",
        "        at_index = email.index(\"@\")\n",
        "        dot_index = email.rindex(\".\")\n",
        "        if at_index < dot_index:\n",
        "            # Basic validation to ensure \"@\" is not the first character and \".\" is not the last\n",
        "            if at_index > 0 and dot_index < len(email) - 1:\n",
        "                return \"Valid email address\"\n",
        "            else:\n",
        "                return \"Invalid email address\"\n",
        "        else:\n",
        "            return \"Invalid email address\"\n",
        "    else:\n",
        "        return \"Invalid email address\"\n",
        "\n",
        "# Taking input from the user\n",
        "email_input = input(\"Enter an email address to check: \")\n",
        "\n",
        "# Checking if the email is valid\n",
        "print(is_valid_email(email_input))\n"
      ],
      "metadata": {
        "colab": {
          "base_uri": "https://localhost:8080/"
        },
        "id": "W5GOjmCMkwaY",
        "outputId": "673fa31f-6762-4161-ea30-6e752b707036"
      },
      "execution_count": 42,
      "outputs": [
        {
          "output_type": "stream",
          "name": "stdout",
          "text": [
            "Enter an email address to check: ikramullah8919@gmail.com\n",
            "Valid email address\n"
          ]
        }
      ]
    },
    {
      "cell_type": "code",
      "source": [
        "tuple_of_tuples = ((10, 20, 30), (40, 50, 60), (70, 80))\n",
        "for inner_tuple in tuple_of_tuples:\n",
        "    total = sum(inner_tuple)\n",
        "    print(f\"The sum of the elements in {inner_tuple} is {total}\")"
      ],
      "metadata": {
        "colab": {
          "base_uri": "https://localhost:8080/"
        },
        "id": "7MX2rnI-lsue",
        "outputId": "f70e5505-45b8-4db4-b788-bff20a836d7b"
      },
      "execution_count": 44,
      "outputs": [
        {
          "output_type": "stream",
          "name": "stdout",
          "text": [
            "The sum of the elements in (10, 20, 30) is 60\n",
            "The sum of the elements in (40, 50, 60) is 150\n",
            "The sum of the elements in (70, 80) is 150\n"
          ]
        }
      ]
    },
    {
      "cell_type": "code",
      "source": [
        "def is_prime(n):\n",
        "    \"\"\"Check if a number is a prime number.\"\"\"\n",
        "    if n <= 1:\n",
        "        return False\n",
        "    for i in range(2, int(n**0.5) + 1):\n",
        "        if n % i == 0:\n",
        "            return False\n",
        "    return True\n",
        "\n",
        "# List containing 10 numbers\n",
        "numbers = [2, 3, 4, 5, 6, 7, 8, 9, 10, 11]\n",
        "\n",
        "# Initialize a list to hold the first three prime numbers\n",
        "first_three_primes = []\n",
        "\n",
        "# Loop through the numbers and find prime numbers\n",
        "for num in numbers:\n",
        "    if is_prime(num):\n",
        "        first_three_primes.append(num)\n",
        "        # Break the loop if we have found three prime numbers\n",
        "        if len(first_three_primes) == 3:\n",
        "            break\n",
        "\n",
        "# Print the first three prime numbers\n",
        "print(\"The first three prime numbers in the list are:\", first_three_primes)"
      ],
      "metadata": {
        "colab": {
          "base_uri": "https://localhost:8080/"
        },
        "id": "8zNgsa56noVk",
        "outputId": "6a4e1f87-469f-45f1-f18e-74885bebb4c6"
      },
      "execution_count": 45,
      "outputs": [
        {
          "output_type": "stream",
          "name": "stdout",
          "text": [
            "The first three prime numbers in the list are: [2, 3, 5]\n"
          ]
        }
      ]
    },
    {
      "cell_type": "code",
      "source": [
        "# List of dictionaries representing students' information\n",
        "students = [\n",
        "    {\"name\": \"Alice\", \"age\": 18, \"grade\": 90},\n",
        "    {\"name\": \"Bob\", \"age\": 17, \"grade\": 95},\n",
        "    {\"name\": \"Charlie\", \"age\": 16, \"grade\": 85},\n",
        "    {\"name\": \"David\", \"age\": 18, \"grade\": 88},\n",
        "    {\"name\": \"Eve\", \"age\": 17, \"grade\": 92}\n",
        "]\n",
        "\n",
        "# Sort the students by grade in descending order\n",
        "sorted_students = sorted(students, key=lambda x: x[\"grade\"], reverse=True)\n",
        "\n",
        "# Print the sorted list\n",
        "print(\"Students sorted by grades in descending order:\")\n",
        "for student in sorted_students:\n",
        "    print(student)\n"
      ],
      "metadata": {
        "colab": {
          "base_uri": "https://localhost:8080/"
        },
        "id": "N-9t3XkfoXLD",
        "outputId": "e3842834-0ac7-49f1-b3de-34de6c960366"
      },
      "execution_count": 46,
      "outputs": [
        {
          "output_type": "stream",
          "name": "stdout",
          "text": [
            "Students sorted by grades in descending order:\n",
            "{'name': 'Bob', 'age': 17, 'grade': 95}\n",
            "{'name': 'Eve', 'age': 17, 'grade': 92}\n",
            "{'name': 'Alice', 'age': 18, 'grade': 90}\n",
            "{'name': 'David', 'age': 18, 'grade': 88}\n",
            "{'name': 'Charlie', 'age': 16, 'grade': 85}\n"
          ]
        }
      ]
    },
    {
      "cell_type": "code",
      "source": [
        "input_string = input(\"Enter numbers separated by commas: \")\n",
        "\n",
        "# Convert the input string into a list of integers\n",
        "number_list = [int(number.strip()) for number in input_string.split(',')]\n",
        "\n",
        "# Convert the list into a set to find unique values\n",
        "unique_numbers = set(number_list)\n",
        "\n",
        "# Print the total number of unique values and the unique values themselves\n",
        "print(f\"Total number of unique values: {len(unique_numbers)}\")\n",
        "print(f\"Unique values: {', '.join(map(str, unique_numbers))}\")\n"
      ],
      "metadata": {
        "colab": {
          "base_uri": "https://localhost:8080/"
        },
        "id": "FVYpXl2cpHE1",
        "outputId": "b610eaf7-19f8-4be3-a478-3a9783438583"
      },
      "execution_count": 48,
      "outputs": [
        {
          "output_type": "stream",
          "name": "stdout",
          "text": [
            "Enter numbers separated by commas: 22,23\n",
            "Total number of unique values: 2\n",
            "Unique values: 22, 23\n"
          ]
        }
      ]
    },
    {
      "cell_type": "code",
      "source": [
        "# Define the two input lists\n",
        "list1 = [1, 2, 3, 4, 5]\n",
        "list2 = [4, 5, 6, 7, 8]\n",
        "\n",
        "# Use list comprehension to find common elements\n",
        "common_elements = [element for element in list1 if element in list2]\n",
        "\n",
        "# Print the result\n",
        "print(f\"Common Elements: {common_elements}\")\n"
      ],
      "metadata": {
        "colab": {
          "base_uri": "https://localhost:8080/"
        },
        "id": "O4tYqExXqIEc",
        "outputId": "59dd4e1a-ec70-4721-e196-a4ae46d153e1"
      },
      "execution_count": 49,
      "outputs": [
        {
          "output_type": "stream",
          "name": "stdout",
          "text": [
            "Common Elements: [4, 5]\n"
          ]
        }
      ]
    },
    {
      "cell_type": "code",
      "source": [
        "dict1 = {'a': 5, 'b': 10, 'c': 15}\n",
        "dict2 = {'b': 20, 'c': 25, 'd': 30}\n",
        "merged_dict = {}\n",
        "\n",
        "# Merge dict1 into merged_dict\n",
        "for key, value in dict1.items():\n",
        "    # If the key is in both dictionaries, add their values\n",
        "    if key in dict2:\n",
        "        merged_dict[key] = value + dict2[key]\n",
        "    else:\n",
        "        merged_dict[key] = value\n",
        "\n",
        "# Add unique keys from dict2 to merged_dict\n",
        "for key, value in dict2.items():\n",
        "    if key not in merged_dict:\n",
        "        merged_dict[key] = value\n",
        "\n",
        "# Print the merged dictionary\n",
        "print(\"Output:\", merged_dict)\n"
      ],
      "metadata": {
        "colab": {
          "base_uri": "https://localhost:8080/"
        },
        "id": "TLwyOlT9quZz",
        "outputId": "8bb14b4f-f54f-4d77-aef3-2c69a6901e39"
      },
      "execution_count": 50,
      "outputs": [
        {
          "output_type": "stream",
          "name": "stdout",
          "text": [
            "Output: {'a': 5, 'b': 30, 'c': 40, 'd': 30}\n"
          ]
        }
      ]
    },
    {
      "cell_type": "code",
      "source": [
        "# Input for the base\n",
        "base = int(input(\"Enter the base: \"))\n",
        "\n",
        "# Input for the exponent\n",
        "exponent = int(input(\"Enter the exponent: \"))\n",
        "\n",
        "# Calculating the result using the ** operator\n",
        "result = base ** exponent\n",
        "\n",
        "# Printing the result\n",
        "print(f\"The result of {base} raised to the power of {exponent} is: {result}\")"
      ],
      "metadata": {
        "colab": {
          "base_uri": "https://localhost:8080/"
        },
        "id": "cZxvlDQ6rZXK",
        "outputId": "dc9adbeb-68cf-41e3-e5e7-3e1bc557540d"
      },
      "execution_count": 51,
      "outputs": [
        {
          "output_type": "stream",
          "name": "stdout",
          "text": [
            "Enter the base: 2\n",
            "Enter the exponent: 5\n",
            "The result of 2 raised to the power of 5 is: 32\n"
          ]
        }
      ]
    },
    {
      "cell_type": "code",
      "source": [
        "# Input for the temperature in Celsius\n",
        "celsius = float(input(\"Enter temperature in Celsius: \"))\n",
        "\n",
        "# Converting Celsius to Fahrenheit\n",
        "fahrenheit = (celsius * 9/5) + 32\n",
        "\n",
        "# Printing the result\n",
        "print(f\"{celsius}°C is equal to {fahrenheit}°F\")\n"
      ],
      "metadata": {
        "colab": {
          "base_uri": "https://localhost:8080/"
        },
        "id": "8ilrnWE3rtQh",
        "outputId": "82a4f949-14e7-400a-f553-0e3444da56f0"
      },
      "execution_count": 52,
      "outputs": [
        {
          "output_type": "stream",
          "name": "stdout",
          "text": [
            "Enter temperature in Celsius: 25\n",
            "25.0°C is equal to 77.0°F\n"
          ]
        }
      ]
    },
    {
      "cell_type": "code",
      "source": [
        "def reverse_list(lst):\n",
        "    n = len(lst)\n",
        "    for i in range(n // 2):\n",
        "        # Swap elements\n",
        "        lst[i], lst[n - i - 1] = lst[n - i - 1], lst[i]\n",
        "    return lst\n",
        "\n",
        "# Example list\n",
        "my_list = [1, 2, 3, 4, 5]\n",
        "\n",
        "# Reverse the list\n",
        "reversed_list = reverse_list(my_list)\n",
        "\n",
        "# Print the reversed list\n",
        "print(\"Reversed list:\", reversed_list)\n"
      ],
      "metadata": {
        "colab": {
          "base_uri": "https://localhost:8080/"
        },
        "id": "zBcUscZIsDWB",
        "outputId": "e0e3b8ad-085b-4d23-a547-5daa399c1fa9"
      },
      "execution_count": 53,
      "outputs": [
        {
          "output_type": "stream",
          "name": "stdout",
          "text": [
            "Reversed list: [5, 4, 3, 2, 1]\n"
          ]
        }
      ]
    },
    {
      "cell_type": "code",
      "source": [
        "def reverse_words_in_string(s):\n",
        "    # Split the string into a list of words\n",
        "    words = s.split()\n",
        "\n",
        "    # Reverse the list of words\n",
        "    words.reverse()\n",
        "\n",
        "    # Join the words back into a string\n",
        "    reversed_string = ' '.join(words)\n",
        "\n",
        "    return reversed_string\n",
        "\n",
        "# Given string\n",
        "s = \"Hello World\"\n",
        "\n",
        "# Reverse the words in the string\n",
        "reversed_s = reverse_words_in_string(s)\n",
        "\n",
        "# Print the result\n",
        "print(\"Reversed String:\", reversed_s)\n"
      ],
      "metadata": {
        "colab": {
          "base_uri": "https://localhost:8080/"
        },
        "id": "RVlZV_-uz57X",
        "outputId": "2cac6148-3e1d-4427-d6e1-e4f98ed76193"
      },
      "execution_count": 54,
      "outputs": [
        {
          "output_type": "stream",
          "name": "stdout",
          "text": [
            "Reversed String: World Hello\n"
          ]
        }
      ]
    },
    {
      "cell_type": "code",
      "source": [
        "def is_palindrome(s):\n",
        "    # Remove case and spaces for a more robust check\n",
        "    cleaned_s = s.replace(\" \", \"\").lower()\n",
        "\n",
        "    # Compare the string with its reverse\n",
        "    return cleaned_s == cleaned_s[::-1]\n",
        "\n",
        "# Test the function with \"radar\"\n",
        "test_string = \"radar\"\n",
        "if is_palindrome(test_string):\n",
        "    print(f\"'{test_string}' is a palindrome.\")\n",
        "else:\n",
        "    print(f\"'{test_string}' is not a palindrome.\")\n"
      ],
      "metadata": {
        "colab": {
          "base_uri": "https://localhost:8080/"
        },
        "id": "A0MMtf360QrI",
        "outputId": "f8899632-ba09-4a42-b364-5aac58f10939"
      },
      "execution_count": 55,
      "outputs": [
        {
          "output_type": "stream",
          "name": "stdout",
          "text": [
            "'radar' is a palindrome.\n"
          ]
        }
      ]
    },
    {
      "cell_type": "code",
      "source": [
        "def get_even_numbers(input_list):\n",
        "    # Use list comprehension to filter even numbers\n",
        "    even_numbers = [num for num in input_list if num % 2 == 0]\n",
        "    return even_numbers\n",
        "\n",
        "# Input list\n",
        "input_list = [2, 5, 3, 7, 9, 53, 10, 32, 65, 76, 98]\n",
        "\n",
        "# Get even numbers from the input list\n",
        "even_numbers = get_even_numbers(input_list)\n",
        "\n",
        "# Print the result\n",
        "print(\"Even numbers:\", even_numbers)\n"
      ],
      "metadata": {
        "colab": {
          "base_uri": "https://localhost:8080/"
        },
        "id": "RtFDd2dG0dI6",
        "outputId": "09d3b5ab-49c3-41f6-ee39-176cd9092d44"
      },
      "execution_count": 56,
      "outputs": [
        {
          "output_type": "stream",
          "name": "stdout",
          "text": [
            "Even numbers: [2, 10, 32, 76, 98]\n"
          ]
        }
      ]
    },
    {
      "cell_type": "code",
      "source": [
        "# Lists containing keys and values\n",
        "keys = ['a', 'b', 'c']\n",
        "values = [1, 2, 3]\n",
        "\n",
        "# Create a dictionary from keys and values lists\n",
        "dictionary = {key: value for key, value in zip(keys, values)}\n",
        "\n",
        "# Print the resulting dictionary\n",
        "print(dictionary)\n"
      ],
      "metadata": {
        "colab": {
          "base_uri": "https://localhost:8080/"
        },
        "id": "EOyW0_fy0sys",
        "outputId": "32a8702d-4b51-43e9-caf7-6c9f13e67992"
      },
      "execution_count": 57,
      "outputs": [
        {
          "output_type": "stream",
          "name": "stdout",
          "text": [
            "{'a': 1, 'b': 2, 'c': 3}\n"
          ]
        }
      ]
    },
    {
      "cell_type": "code",
      "source": [],
      "metadata": {
        "id": "FMro8siC04jj"
      },
      "execution_count": null,
      "outputs": []
    }
  ]
}